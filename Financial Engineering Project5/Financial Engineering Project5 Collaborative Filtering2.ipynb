{
 "cells": [
  {
   "cell_type": "code",
   "execution_count": 1,
   "id": "b4dc64cb",
   "metadata": {},
   "outputs": [],
   "source": [
    "import pandas as pd"
   ]
  },
  {
   "cell_type": "code",
   "execution_count": 2,
   "id": "4a5dc6d8",
   "metadata": {},
   "outputs": [],
   "source": [
    "users = [\"User1\", \"User2\", \"User3\", \"User4\", \"User5\"]\n",
    "items = [\"Item A\", \"Item B\", \"Item C\", \"Item D\", \"Item E\"]"
   ]
  },
  {
   "cell_type": "code",
   "execution_count": 3,
   "id": "5e0fce82",
   "metadata": {},
   "outputs": [],
   "source": [
    "datasets = [\n",
    " [5,3,4,4,None],\n",
    " [3,1,2,3,3],\n",
    " [4,3,4,3,5],\n",
    " [3,3,1,5,4],\n",
    " [1,5,5,2,1]]\n",
    "df=pd.DataFrame(datasets,columns=items,index=users)"
   ]
  },
  {
   "cell_type": "code",
   "execution_count": 5,
   "id": "8d9f2520",
   "metadata": {},
   "outputs": [
    {
     "name": "stdout",
     "output_type": "stream",
     "text": [
      "用户两两相似度\n",
      "          User1     User2     User3     User4     User5\n",
      "User1  1.000000  0.852803  0.707107  0.000000 -0.792118\n",
      "User2  0.852803  1.000000  0.467707  0.489956 -0.900149\n",
      "User3  0.707107  0.467707  1.000000 -0.161165 -0.466569\n",
      "User4  0.000000  0.489956 -0.161165  1.000000 -0.641503\n",
      "User5 -0.792118 -0.900149 -0.466569 -0.641503  1.000000\n",
      "物品两两相似度\n",
      "          Item A    Item B    Item C    Item D    Item E\n",
      "Item A  1.000000 -0.476731 -0.123091  0.532181  0.969458\n",
      "Item B -0.476731  1.000000  0.645497 -0.310087 -0.478091\n",
      "Item C -0.123091  0.645497  1.000000 -0.720577 -0.427618\n",
      "Item D  0.532181 -0.310087 -0.720577  1.000000  0.581675\n",
      "Item E  0.969458 -0.478091 -0.427618  0.581675  1.000000\n"
     ]
    }
   ],
   "source": [
    "user_similar=df.T.corr()\n",
    "print(\"Pairwise similarity between users\" )\n",
    "print(user_similar)\n",
    "item_similar=df.corr()\n",
    "print('Pairwise similarity between items')\n",
    "print(item_similar)\n",
    "#corr compares the correlation between two columns, so if the columns represent items, then the comparison is between the correlation of items"
   ]
  },
  {
   "cell_type": "code",
   "execution_count": null,
   "id": "1878001b",
   "metadata": {},
   "outputs": [],
   "source": []
  }
 ],
 "metadata": {
  "kernelspec": {
   "display_name": "Python 3 (ipykernel)",
   "language": "python",
   "name": "python3"
  },
  "language_info": {
   "codemirror_mode": {
    "name": "ipython",
    "version": 3
   },
   "file_extension": ".py",
   "mimetype": "text/x-python",
   "name": "python",
   "nbconvert_exporter": "python",
   "pygments_lexer": "ipython3",
   "version": "3.10.9"
  }
 },
 "nbformat": 4,
 "nbformat_minor": 5
}
