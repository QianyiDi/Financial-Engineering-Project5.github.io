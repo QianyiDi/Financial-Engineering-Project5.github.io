{
 "cells": [
  {
   "cell_type": "code",
   "execution_count": 1,
   "id": "2119c2f8",
   "metadata": {},
   "outputs": [],
   "source": [
    "import pandas as pd\n",
    "import numpy as np"
   ]
  },
  {
   "cell_type": "code",
   "execution_count": 2,
   "id": "473d76c5",
   "metadata": {},
   "outputs": [
    {
     "data": {
      "text/html": [
       "<div>\n",
       "<style scoped>\n",
       "    .dataframe tbody tr th:only-of-type {\n",
       "        vertical-align: middle;\n",
       "    }\n",
       "\n",
       "    .dataframe tbody tr th {\n",
       "        vertical-align: top;\n",
       "    }\n",
       "\n",
       "    .dataframe thead th {\n",
       "        text-align: right;\n",
       "    }\n",
       "</style>\n",
       "<table border=\"1\" class=\"dataframe\">\n",
       "  <thead>\n",
       "    <tr style=\"text-align: right;\">\n",
       "      <th></th>\n",
       "      <th>Item1</th>\n",
       "      <th>Item2</th>\n",
       "      <th>Item3</th>\n",
       "      <th>Item4</th>\n",
       "      <th>Item5</th>\n",
       "    </tr>\n",
       "  </thead>\n",
       "  <tbody>\n",
       "    <tr>\n",
       "      <th>User1</th>\n",
       "      <td>1</td>\n",
       "      <td>0</td>\n",
       "      <td>1</td>\n",
       "      <td>1</td>\n",
       "      <td>0</td>\n",
       "    </tr>\n",
       "    <tr>\n",
       "      <th>User2</th>\n",
       "      <td>1</td>\n",
       "      <td>0</td>\n",
       "      <td>0</td>\n",
       "      <td>1</td>\n",
       "      <td>1</td>\n",
       "    </tr>\n",
       "    <tr>\n",
       "      <th>User3</th>\n",
       "      <td>1</td>\n",
       "      <td>0</td>\n",
       "      <td>1</td>\n",
       "      <td>0</td>\n",
       "      <td>0</td>\n",
       "    </tr>\n",
       "    <tr>\n",
       "      <th>User4</th>\n",
       "      <td>0</td>\n",
       "      <td>1</td>\n",
       "      <td>0</td>\n",
       "      <td>1</td>\n",
       "      <td>1</td>\n",
       "    </tr>\n",
       "    <tr>\n",
       "      <th>User5</th>\n",
       "      <td>1</td>\n",
       "      <td>1</td>\n",
       "      <td>1</td>\n",
       "      <td>0</td>\n",
       "      <td>1</td>\n",
       "    </tr>\n",
       "  </tbody>\n",
       "</table>\n",
       "</div>"
      ],
      "text/plain": [
       "       Item1  Item2  Item3  Item4  Item5\n",
       "User1      1      0      1      1      0\n",
       "User2      1      0      0      1      1\n",
       "User3      1      0      1      0      0\n",
       "User4      0      1      0      1      1\n",
       "User5      1      1      1      0      1"
      ]
     },
     "execution_count": 2,
     "metadata": {},
     "output_type": "execute_result"
    }
   ],
   "source": [
    "users=['User1','User2','User3','User4','User5']\n",
    "items=['Item1','Item2','Item3','Item4','Item5']\n",
    "datasets=[\n",
    "    [1,0,1,1,0],\n",
    "    [1,0,0,1,1],\n",
    "    [1,0,1,0,0],\n",
    "    [0,1,0,1,1],\n",
    "    [1,1,1,0,1],\n",
    "]\n",
    "df=pd.DataFrame(datasets,columns=items,index=users)\n",
    "df"
   ]
  },
  {
   "cell_type": "code",
   "execution_count": 3,
   "id": "337b06b3",
   "metadata": {},
   "outputs": [],
   "source": [
    "from sklearn.metrics import jaccard_score\n",
    "from sklearn.metrics.pairwise import pairwise_distances\n"
   ]
  },
  {
   "cell_type": "code",
   "execution_count": 4,
   "id": "e85b612f",
   "metadata": {},
   "outputs": [
    {
     "name": "stderr",
     "output_type": "stream",
     "text": [
      "C:\\Users\\HUAWEI\\anaconda3\\lib\\site-packages\\sklearn\\metrics\\pairwise.py:2025: DataConversionWarning: Data was converted to boolean for metric jaccard\n",
      "  warnings.warn(msg, DataConversionWarning)\n"
     ]
    },
    {
     "data": {
      "text/plain": [
       "array([[1.        , 0.5       , 0.66666667, 0.2       , 0.4       ],\n",
       "       [0.5       , 1.        , 0.25      , 0.5       , 0.4       ],\n",
       "       [0.66666667, 0.25      , 1.        , 0.        , 0.5       ],\n",
       "       [0.2       , 0.5       , 0.        , 1.        , 0.4       ],\n",
       "       [0.4       , 0.4       , 0.5       , 0.4       , 1.        ]])"
      ]
     },
     "execution_count": 4,
     "metadata": {},
     "output_type": "execute_result"
    }
   ],
   "source": [
    "user_similar=1-pairwise_distances(df.values,metric='jaccard')#the calculation is for the intersection/union of rows with rows\n",
    "user_similar"
   ]
  },
  {
   "cell_type": "code",
   "execution_count": 5,
   "id": "94df0755",
   "metadata": {},
   "outputs": [],
   "source": [
    "user_similar=pd.DataFrame(user_similar,index=users,columns=users)"
   ]
  },
  {
   "cell_type": "code",
   "execution_count": 6,
   "id": "d074d888",
   "metadata": {},
   "outputs": [
    {
     "name": "stdout",
     "output_type": "stream",
     "text": [
      "{'User1': ['User3', 'User2'], 'User2': ['User1', 'User4'], 'User3': ['User1', 'User5'], 'User4': ['User2', 'User5'], 'User5': ['User3', 'User1']}\n",
      "       Item1  Item2  Item3  Item4  Item5\n",
      "User1      1      0      1      1      0\n",
      "User2      1      0      0      1      1\n",
      "User3      1      0      1      0      0\n",
      "User4      0      1      0      1      1\n",
      "User5      1      1      1      0      1\n"
     ]
    }
   ],
   "source": [
    "topN_users={}\n",
    "#This loop is to find which user is similar to\n",
    "for i in user_similar.index:\n",
    "    #print(user_similar.loc[i])\n",
    "    _df=user_similar.loc[i].drop([i])\n",
    "    _df_sorted=_df.sort_values(ascending=False)\n",
    "    top2= list(_df_sorted.index[:2])\n",
    "    topN_users[i]=top2\n",
    "print(topN_users)\n",
    "print(df)\n",
    "rs_results={}"
   ]
  },
  {
   "cell_type": "code",
   "execution_count": 7,
   "id": "14f5c776",
   "metadata": {},
   "outputs": [
    {
     "name": "stdout",
     "output_type": "stream",
     "text": [
      "{'Item1', 'Item3'}\n",
      "{'Item4', 'Item5', 'Item1', 'Item3'}\n",
      "{'Item1', 'Item4', 'Item3'}\n",
      "{'Item4', 'Item5', 'Item1', 'Item3', 'Item2'}\n",
      "{'Item1', 'Item4', 'Item3'}\n",
      "{'Item4', 'Item5', 'Item1', 'Item3', 'Item2'}\n",
      "{'Item1', 'Item4', 'Item5'}\n",
      "{'Item4', 'Item5', 'Item1', 'Item3', 'Item2'}\n",
      "{'Item1', 'Item3'}\n",
      "{'Item4', 'Item1', 'Item3'}\n"
     ]
    },
    {
     "data": {
      "text/plain": [
       "{'User1': {'Item5'},\n",
       " 'User2': {'Item2', 'Item3'},\n",
       " 'User3': {'Item2', 'Item4', 'Item5'},\n",
       " 'User4': {'Item1', 'Item3'},\n",
       " 'User5': {'Item4'}}"
      ]
     },
     "execution_count": 7,
     "metadata": {},
     "output_type": "execute_result"
    }
   ],
   "source": [
    "#This loop is to check which products are liked by similar users and then subtract the ones that the user already prefers\n",
    "for user, sim_users in topN_users.items():\n",
    "    rs_result=set()\n",
    "    #print(rs_result)\n",
    "    for sim_user in sim_users:\n",
    "        rs_result=rs_result.union(set(df.loc[sim_user].replace(0,np.nan).dropna().index))#Taking the union here allows obtaining the names of items obtained in the first retrieval\n",
    "        print(rs_result)\n",
    "    rs_result -= set(df.loc[user].replace(0,np.nan).dropna().index)#Although User1 is similar to User2 and User3, and he also needs what User2 and User3 have, he must subtract the items he has already purchased\n",
    "    rs_results[user]=rs_result#Assign to a dictionary and then refresh in a loop\n",
    "rs_results"
   ]
  },
  {
   "cell_type": "code",
   "execution_count": null,
   "id": "f0b88cab",
   "metadata": {},
   "outputs": [],
   "source": []
  }
 ],
 "metadata": {
  "kernelspec": {
   "display_name": "Python 3 (ipykernel)",
   "language": "python",
   "name": "python3"
  },
  "language_info": {
   "codemirror_mode": {
    "name": "ipython",
    "version": 3
   },
   "file_extension": ".py",
   "mimetype": "text/x-python",
   "name": "python",
   "nbconvert_exporter": "python",
   "pygments_lexer": "ipython3",
   "version": "3.10.9"
  }
 },
 "nbformat": 4,
 "nbformat_minor": 5
}
